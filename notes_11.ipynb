{
 "cells": [
  {
   "cell_type": "code",
   "execution_count": 8,
   "metadata": {},
   "outputs": [
    {
     "data": {
      "text/plain": [
       "True"
      ]
     },
     "execution_count": 8,
     "metadata": {},
     "output_type": "execute_result"
    }
   ],
   "source": [
    "import matplotlib\n",
    "import matplotlib.pyplot as plt\n",
    "import numpy as np\n",
    "\n",
    "matplotlib.interactive(True)\n",
    "plt.ion()\n",
    "matplotlib.is_interactive()"
   ]
  },
  {
   "cell_type": "code",
   "execution_count": 9,
   "metadata": {},
   "outputs": [
    {
     "data": {
      "text/plain": [
       "{'whiskers': [<matplotlib.lines.Line2D at 0x7fe32296bfa0>,\n",
       "  <matplotlib.lines.Line2D at 0x7fe322974160>],\n",
       " 'caps': [<matplotlib.lines.Line2D at 0x7fe322974430>,\n",
       "  <matplotlib.lines.Line2D at 0x7fe322974760>],\n",
       " 'boxes': [<matplotlib.lines.Line2D at 0x7fe32296bcd0>],\n",
       " 'medians': [<matplotlib.lines.Line2D at 0x7fe322974a30>],\n",
       " 'fliers': [<matplotlib.lines.Line2D at 0x7fe322974d00>],\n",
       " 'means': []}"
      ]
     },
     "execution_count": 9,
     "metadata": {},
     "output_type": "execute_result"
    },
    {
     "data": {
      "image/png": "[encoded data removed]",
      "text/plain": [
       "<Figure size 432x288 with 1 Axes>"
      ]
     },
     "metadata": {
      "needs_background": "light"
     },
     "output_type": "display_data"
    }
   ],
   "source": [
    "# BoxPLot\n",
    "# A boxplot is a plot type used to enclose values in a box containing the 50% of \n",
    "# the values leaving a top margin that goes from the last 25% and a bottom margin\n",
    "# that goes from the first 25%. So the box ranges from 25% to 75%. Theres also a \n",
    "# line within the box that represents where is the division between 50%/50%. This\n",
    "# type of plot allows to display several maningul points of a dataset to \n",
    "# understand the data distribution\n",
    "\n",
    "x_1 = np.random.randint(low=0, high=20, size=20)\n",
    "x_1.sort()\n",
    "\n",
    "plt.boxplot(x_1)"
   ]
  },
  {
   "cell_type": "code",
   "execution_count": 10,
   "metadata": {},
   "outputs": [
    {
     "data": {
      "text/plain": [
       "{'whiskers': [<matplotlib.lines.Line2D at 0x7fe322a45cc0>,\n",
       "  <matplotlib.lines.Line2D at 0x7fe322a45f90>],\n",
       " 'caps': [<matplotlib.lines.Line2D at 0x7fe322a46260>,\n",
       "  <matplotlib.lines.Line2D at 0x7fe322a46530>],\n",
       " 'boxes': [<matplotlib.lines.Line2D at 0x7fe322a459f0>],\n",
       " 'medians': [<matplotlib.lines.Line2D at 0x7fe322a46800>],\n",
       " 'fliers': [<matplotlib.lines.Line2D at 0x7fe322a46ad0>],\n",
       " 'means': []}"
      ]
     },
     "execution_count": 10,
     "metadata": {},
     "output_type": "execute_result"
    },
    {
     "data": {
      "image/png": "[encoded data removed]",
      "text/plain": [
       "<Figure size 432x288 with 1 Axes>"
      ]
     },
     "metadata": {
      "needs_background": "light"
     },
     "output_type": "display_data"
    }
   ],
   "source": [
    "# For values that go beyond the reach of the boxplot there are a type ob object\n",
    "# called 'fliying object' and it is used to point out these 'anomalies' in\n",
    "# the data. This anolmalies are those values that exceed the following formula\n",
    "\n",
    "# RIC = 3rdQt - 1stQt\n",
    "# Anomaly if 1stQT-3·RIC or 3rdQt+3·RIC\n",
    "\n",
    "\n",
    "x_1 = np.append(x_1,40)\n",
    "x_1 = np.append(x_1,35)\n",
    "\n",
    "plt.boxplot(x_1)"
   ]
  },
  {
   "cell_type": "code",
   "execution_count": 11,
   "metadata": {},
   "outputs": [
    {
     "data": {
      "text/plain": [
       "{'whiskers': [<matplotlib.lines.Line2D at 0x7fe3237760e0>,\n",
       "  <matplotlib.lines.Line2D at 0x7fe3237763b0>],\n",
       " 'caps': [<matplotlib.lines.Line2D at 0x7fe323776680>,\n",
       "  <matplotlib.lines.Line2D at 0x7fe323776950>],\n",
       " 'boxes': [<matplotlib.lines.Line2D at 0x7fe323775f30>],\n",
       " 'medians': [<matplotlib.lines.Line2D at 0x7fe323776c20>],\n",
       " 'fliers': [<matplotlib.lines.Line2D at 0x7fe323776ef0>],\n",
       " 'means': []}"
      ]
     },
     "execution_count": 11,
     "metadata": {},
     "output_type": "execute_result"
    },
    {
     "data": {
      "image/png": "[encoded data removed]",
      "text/plain": [
       "<Figure size 432x288 with 1 Axes>"
      ]
     },
     "metadata": {
      "needs_background": "light"
     },
     "output_type": "display_data"
    }
   ],
   "source": [
    "# Boxplots can be reoriented\n",
    "plt.boxplot(x_1, vert = False)"
   ]
  },
  {
   "cell_type": "code",
   "execution_count": 12,
   "metadata": {},
   "outputs": [
    {
     "data": {
      "text/plain": [
       "{'whiskers': [<matplotlib.lines.Line2D at 0x7fe3238d08b0>,\n",
       "  <matplotlib.lines.Line2D at 0x7fe3238d0b80>],\n",
       " 'caps': [<matplotlib.lines.Line2D at 0x7fe3238d0e50>,\n",
       "  <matplotlib.lines.Line2D at 0x7fe3238d1120>],\n",
       " 'boxes': [<matplotlib.lines.Line2D at 0x7fe3238d0700>],\n",
       " 'medians': [<matplotlib.lines.Line2D at 0x7fe3238d13f0>],\n",
       " 'fliers': [<matplotlib.lines.Line2D at 0x7fe3238d16c0>],\n",
       " 'means': []}"
      ]
     },
     "execution_count": 12,
     "metadata": {},
     "output_type": "execute_result"
    },
    {
     "data": {
      "image/png": "[encoded data removed]",
      "text/plain": [
       "<Figure size 432x288 with 1 Axes>"
      ]
     },
     "metadata": {
      "needs_background": "light"
     },
     "output_type": "display_data"
    }
   ],
   "source": [
    "# There can be added a notch at the median\n",
    "plt.boxplot(x_1, vert = False, notch=True)"
   ]
  },
  {
   "cell_type": "code",
   "execution_count": 13,
   "metadata": {},
   "outputs": [
    {
     "data": {
      "text/plain": [
       "{'whiskers': [<matplotlib.lines.Line2D at 0x7fe32391b0d0>,\n",
       "  <matplotlib.lines.Line2D at 0x7fe32391b3a0>],\n",
       " 'caps': [<matplotlib.lines.Line2D at 0x7fe32391b670>,\n",
       "  <matplotlib.lines.Line2D at 0x7fe32391b940>],\n",
       " 'boxes': [<matplotlib.lines.Line2D at 0x7fe32391af20>],\n",
       " 'medians': [<matplotlib.lines.Line2D at 0x7fe32391bc10>],\n",
       " 'fliers': [],\n",
       " 'means': []}"
      ]
     },
     "execution_count": 13,
     "metadata": {},
     "output_type": "execute_result"
    },
    {
     "data": {
      "image/png": "[encoded data removed]",
      "text/plain": [
       "<Figure size 432x288 with 1 Axes>"
      ]
     },
     "metadata": {
      "needs_background": "light"
     },
     "output_type": "display_data"
    }
   ],
   "source": [
    "# Hide flying objects\n",
    "plt.boxplot(x_1, vert = False, notch=True, showfliers=False)"
   ]
  },
  {
   "cell_type": "code",
   "execution_count": 20,
   "metadata": {},
   "outputs": [
    {
     "data": {
      "text/plain": [
       "{'whiskers': [<matplotlib.lines.Line2D at 0x7fe32512d7e0>,\n",
       "  <matplotlib.lines.Line2D at 0x7fe32512dab0>],\n",
       " 'caps': [<matplotlib.lines.Line2D at 0x7fe32512dd80>,\n",
       "  <matplotlib.lines.Line2D at 0x7fe32512e050>],\n",
       " 'boxes': [<matplotlib.patches.PathPatch at 0x7fe32512d420>],\n",
       " 'medians': [<matplotlib.lines.Line2D at 0x7fe32512e320>],\n",
       " 'fliers': [<matplotlib.lines.Line2D at 0x7fe32512e5f0>],\n",
       " 'means': []}"
      ]
     },
     "execution_count": 20,
     "metadata": {},
     "output_type": "execute_result"
    },
    {
     "data": {
      "image/png": "[encoded data removed]",
      "text/plain": [
       "<Figure size 432x288 with 1 Axes>"
      ]
     },
     "metadata": {
      "needs_background": "light"
     },
     "output_type": "display_data"
    }
   ],
   "source": [
    "# BoxPLots can be moded\n",
    "box_plot_a = plt.boxplot(x_1,patch_artist=True) # This object can be setted up\n",
    "\n",
    "# Setting new values for the box plot\n",
    "# Box\n",
    "box_plot_a['boxes'][0].set(facecolor='yellow', edgecolor='blue', hatch = '//')\n",
    "# Limit 25% and 75% lines\n",
    "box_plot_a['whiskers'][0].set(color='g', linewidth = 4)\n",
    "box_plot_a['whiskers'][1].set(color='y', linewidth = 8)\n",
    "# 0% and 100% lines\n",
    "box_plot_a['caps'][0].set(color='b', linewidth = 4)\n",
    "box_plot_a['caps'][1].set(color='orange', linewidth = 8)\n",
    "# Fliers\n",
    "box_plot_a['fliers'][0].set(markerfacecolor='purple', marker='D')\n",
    "# Medians\n",
    "box_plot_a['medians'][0].set(linestyle='--', linewidth = 8)\n",
    "box_plot_a"
   ]
  },
  {
   "cell_type": "code",
   "execution_count": null,
   "metadata": {},
   "outputs": [],
   "source": []
  }
 ],
 "metadata": {
  "kernelspec": {
   "display_name": "Python 3.10.4 ('DA')",
   "language": "python",
   "name": "python3"
  },
  "language_info": {
   "codemirror_mode": {
    "name": "ipython",
    "version": 3
   },
   "file_extension": ".py",
   "mimetype": "text/x-python",
   "name": "python",
   "nbconvert_exporter": "python",
   "pygments_lexer": "ipython3",
   "version": "3.10.4"
  },
  "orig_nbformat": 4,
  "vscode": {
   "interpreter": {
    "hash": "d15b17d0721e65c98e3f589d81a50cbfca960350710470be839bc860cefc20ec"
   }
  }
 },
 "nbformat": 4,
 "nbformat_minor": 2
}
